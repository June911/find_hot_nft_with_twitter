{
 "cells": [
  {
   "cell_type": "code",
   "execution_count": 53,
   "metadata": {},
   "outputs": [],
   "source": [
    "# import packages\n",
    "import re\n",
    "import csv\n",
    "import time\n",
    "import requests\n",
    "from bs4 import BeautifulSoup\n",
    "from ordered_set import OrderedSet\n",
    "from tqdm import tqdm\n",
    "\n",
    "\n",
    "# send request and return soup\n",
    "def quickSoup(url):\n",
    "    try:\n",
    "        header = {}\n",
    "        header['User-Agent'] = \"Mozilla/5.0 (Windows NT 10.0; Win64; x64) AppleWebKit/537.36 (KHTML, like Gecko) Chrome/98.0.4758.102 Safari/537.36\"\n",
    "        soup = BeautifulSoup(requests.get(url, headers=header, timeout=10).content, 'html.parser')\n",
    "        return soup\n",
    "    except Exception:\n",
    "        return None"
   ]
  },
  {
   "cell_type": "code",
   "execution_count": 49,
   "metadata": {},
   "outputs": [
    {
     "data": {
      "text/plain": [
       "'14064'"
      ]
     },
     "execution_count": 49,
     "metadata": {},
     "output_type": "execute_result"
    }
   ],
   "source": [
    "url = \"https://discord.com/invite/PlanetXOLO\"\n",
    "soup = quickSoup(url)\n",
    "\n",
    "content = ''.join([str(i) for i in soup.contents])\n",
    "n_members = re.findall(r\"[0-9,]+ member\", content)[0].replace(\",\",\"\").replace(\" member\", \"\")\n",
    "n_members\n"
   ]
  },
  {
   "cell_type": "code",
   "execution_count": 2,
   "metadata": {},
   "outputs": [],
   "source": [
    "from twitter_giveaway_bot import *\n",
    "\n",
    "# connect to twitter api v2 \n",
    "client = connect()\n",
    "\n",
    "# find user\n",
    "res = client.get_user(username=\"PlanetXOLO\", user_fields=[\"description\"])"
   ]
  },
  {
   "cell_type": "code",
   "execution_count": 69,
   "metadata": {},
   "outputs": [],
   "source": [
    "username = \"FancyBearsMeta\"\n",
    "username = \"WabiSabiNFT\"\n",
    "# username = \"PlanetXOLO\"\n",
    "user = client.get_user(username=username, user_fields=[\"description\", \"entities\"]).data\n",
    "user_description = user[\"description\"]\n",
    "entities = user[\"entities\"]\n"
   ]
  },
  {
   "cell_type": "code",
   "execution_count": 70,
   "metadata": {},
   "outputs": [
    {
     "data": {
      "text/plain": [
       "{'url': {'urls': [{'start': 0,\n",
       "    'end': 23,\n",
       "    'url': 'https://t.co/OUN25emTkO',\n",
       "    'expanded_url': 'http://wabisabicollective.io',\n",
       "    'display_url': 'wabisabicollective.io'}]},\n",
       " 'description': {'urls': [{'start': 84,\n",
       "    'end': 107,\n",
       "    'url': 'https://t.co/ge3vpAazXI',\n",
       "    'expanded_url': 'http://discord.gg/wabisabicollective',\n",
       "    'display_url': 'discord.gg/wabisabicollec…'},\n",
       "   {'start': 112,\n",
       "    'end': 135,\n",
       "    'url': 'https://t.co/G3V9wb0Ewe',\n",
       "    'expanded_url': 'http://opensea.io/collection/wabi-sabi-official',\n",
       "    'display_url': 'opensea.io/collection/wab…'}]}}"
      ]
     },
     "execution_count": 70,
     "metadata": {},
     "output_type": "execute_result"
    }
   ],
   "source": [
    "entities"
   ]
  },
  {
   "cell_type": "code",
   "execution_count": 40,
   "metadata": {},
   "outputs": [
    {
     "data": {
      "text/plain": [
       "{'url': {'urls': [{'start': 0,\n",
       "    'end': 23,\n",
       "    'url': 'https://t.co/HfWPgyFrbb',\n",
       "    'expanded_url': 'https://planetxolo.com/',\n",
       "    'display_url': 'planetxolo.com'}]},\n",
       " 'description': {'urls': [{'start': 34,\n",
       "    'end': 57,\n",
       "    'url': 'https://t.co/RWxQoKHHYS',\n",
       "    'expanded_url': 'https://opensea.io/collection/villagers-of-xolo',\n",
       "    'display_url': 'opensea.io/collection/vil…'},\n",
       "   {'start': 67,\n",
       "    'end': 90,\n",
       "    'url': 'https://t.co/x5inXk3k0f',\n",
       "    'expanded_url': 'http://Discord.gg/PlanetXOLO',\n",
       "    'display_url': 'Discord.gg/PlanetXOLO'}]}}"
      ]
     },
     "execution_count": 40,
     "metadata": {},
     "output_type": "execute_result"
    }
   ],
   "source": [
    "entities"
   ]
  },
  {
   "cell_type": "code",
   "execution_count": 73,
   "metadata": {},
   "outputs": [
    {
     "name": "stdout",
     "output_type": "stream",
     "text": [
      "[{'start': 0, 'end': 23, 'url': 'https://t.co/OUN25emTkO', 'expanded_url': 'http://wabisabicollective.io', 'display_url': 'wabisabicollective.io'}]\n",
      "[{'start': 84, 'end': 107, 'url': 'https://t.co/ge3vpAazXI', 'expanded_url': 'http://discord.gg/wabisabicollective', 'display_url': 'discord.gg/wabisabicollec…'}, {'start': 112, 'end': 135, 'url': 'https://t.co/G3V9wb0Ewe', 'expanded_url': 'http://opensea.io/collection/wabi-sabi-official', 'display_url': 'opensea.io/collection/wab…'}]\n"
     ]
    }
   ],
   "source": [
    "for i in entities:\n",
    "    if \"urls\" in entities[i]:\n",
    "        urls = entities[i][\"urls\"]\n",
    "        print(urls)"
   ]
  },
  {
   "cell_type": "code",
   "execution_count": 76,
   "metadata": {},
   "outputs": [
    {
     "data": {
      "text/plain": [
       "'http://opensea.io/collection/wabi-sabi-official'"
      ]
     },
     "execution_count": 76,
     "metadata": {},
     "output_type": "execute_result"
    }
   ],
   "source": [
    "expanded_url"
   ]
  },
  {
   "cell_type": "code",
   "execution_count": 79,
   "metadata": {},
   "outputs": [
    {
     "data": {
      "text/plain": [
       "True"
      ]
     },
     "execution_count": 79,
     "metadata": {},
     "output_type": "execute_result"
    }
   ],
   "source": [
    "\"discord\" in \"http://discord.gg/wabisabicollective\""
   ]
  },
  {
   "cell_type": "code",
   "execution_count": 82,
   "metadata": {},
   "outputs": [
    {
     "data": {
      "text/plain": [
       "True"
      ]
     },
     "execution_count": 82,
     "metadata": {},
     "output_type": "execute_result"
    }
   ],
   "source": [
    "\n",
    "# for w in [\"Discord, discord\"]:\n",
    "    # print(w in \"http://discord.gg/wabisabicollective\" )"
   ]
  },
  {
   "cell_type": "code",
   "execution_count": 87,
   "metadata": {},
   "outputs": [
    {
     "name": "stdout",
     "output_type": "stream",
     "text": [
      "http://discord.gg/wabisabicollective\n"
     ]
    }
   ],
   "source": [
    "# for i in user[\"entities\"][\"description\"][\"urls\"]:\n",
    "#     if \"Discord\" in i[\"expanded_url\"]:\n",
    "#         print(i[\"expanded_url\"])\n",
    "        \n",
    "for i in entities:\n",
    "    if \"urls\" in entities[i]:\n",
    "        urls = entities[i][\"urls\"]\n",
    "        for j in urls:\n",
    "            expanded_url = j[\"expanded_url\"]\n",
    "            if any(w in expanded_url for w in [\"Discord\", \"discord\"]):\n",
    "            # if \"Discord\" in expanded_url:\n",
    "                discord_url = print(expanded_url)\n",
    "                break \n",
    "            if \"linktr\" in expanded_url:\n",
    "                print(\"through linktr\")\n",
    "                print(expanded_url)\n",
    "                # request the linktr and find the discord url\n",
    "                soup = quickSoup(expanded_url)\n",
    "                hrefs = soup.find_all('a', href=True)\n",
    "                for a in soup.find_all('a', href=True):\n",
    "                    if any(w in a[\"href\"] for w in [\"Discord\", \"discord\"]):\n",
    "                        print(\"Found the discord URL:\", a['href'])\n",
    "                        discord_url = a['href']\n",
    "                        break \n",
    "                \n"
   ]
  },
  {
   "cell_type": "code",
   "execution_count": 90,
   "metadata": {},
   "outputs": [
    {
     "name": "stdout",
     "output_type": "stream",
     "text": [
      "Found the discord URL: http://Discord.gg/Cosmiqs\n"
     ]
    }
   ],
   "source": [
    "soup = quickSoup(\"http://linktr.ee/CosmiqsNFT\")\n",
    "hrefs = soup.find_all('a', href=True)\n",
    "for a in soup.find_all('a', href=True):\n",
    "    if any(w in a[\"href\"] for w in [\"Discord\", \"discord\"]):\n",
    "        print(\"Found the discord URL:\", a['href'])\n",
    "        discord_url = a['href']\n",
    "        break "
   ]
  },
  {
   "cell_type": "code",
   "execution_count": 28,
   "metadata": {},
   "outputs": [
    {
     "data": {
      "text/plain": [
       "('https://t.co/HfWPgyFrbb', 'https://planetxolo.com/')"
      ]
     },
     "execution_count": 28,
     "metadata": {},
     "output_type": "execute_result"
    }
   ],
   "source": [
    "url = user[\"entities\"][\"url\"][\"urls\"][0][\"url\"]\n",
    "expanded_url = user[\"entities\"][\"url\"][\"urls\"][0][\"expanded_url\"]\n",
    "url, expanded_url"
   ]
  },
  {
   "cell_type": "code",
   "execution_count": 96,
   "metadata": {},
   "outputs": [
    {
     "data": {
      "text/plain": [
       "'html\\n<html>\\n<head> <meta charset=\"utf-8\"/>\\n<meta content=\"width=device-width, initial-scale=1.0, maximum-scale=1, user-scalable=no\" name=\"viewport\"/>\\n<meta content=\"Check out the Super Ordinary Villains community on Discord - hang out with 19,827 other members and enjoy free voice and text chat.\" name=\"description\"/>\\n<meta content=\"summary_large_image\" name=\"twitter:card\"/>\\n<meta content=\"@discord\" name=\"twitter:site\"/>\\n<meta content=\"Join the Super Ordinary Villains Discord Server!\" name=\"twitter:title\"/>\\n<meta content=\"Check out the Super Ordinary Villains community on Discord - hang out with 19,827 other members and enjoy free voice and text chat.\" name=\"twitter:description\"/>\\n<meta content=\"Join the Super Ordinary Villains Discord Server!\" property=\"og:title\"/>\\n<meta content=\"https://discord.com/invite/sovillains\" property=\"og:url\"/>\\n<meta content=\"Check out the Super Ordinary Villains community on Discord - hang out with 19,827 other members and enjoy free voice and text chat.\" property=\"og:description\"/>\\n<meta content=\"Discord\" property=\"og:site_name\"/>\\n<meta content=\"https://cdn.discordapp.com/icons/939740982499475488/e0d2d4d73bcba9d8680022d6490aa7d1.jpg?size=256\" property=\"og:image\"/>\\n<meta content=\"image/jpeg\" property=\"og:image:type\"/>\\n<meta content=\"512\" property=\"og:image:width\"/>\\n<meta content=\"512\" property=\"og:image:height\"/>\\n<meta content=\"https://cdn.discordapp.com/icons/939740982499475488/e0d2d4d73bcba9d8680022d6490aa7d1.jpg?size=256\" name=\"twitter:image\"/>\\n<meta content=\"noindex, nofollow\" name=\"googlebot\"/><meta content=\"noindex, nofollow\" name=\"bingbot\"/><meta content=\"noindex, nofollow\" name=\"slurp\"/><meta content=\"noindex, nofollow\" name=\"duckduckbot\"/><meta content=\"noindex, nofollow\" name=\"baiduspider\"/><meta content=\"noindex, nofollow\" name=\"yandexbot\"/><meta content=\"noindex, nofollow\" name=\"naver\"/><meta content=\"index, follow\" name=\"facebookexternalhit\"/><meta content=\"index, follow\" name=\"twitterbot\"/><link href=\"https://discord.com/invite/sovillains\" rel=\"canonical\"/>\\n<link href=\"/assets/40532.d41a92f3d1cf8297b145.css\" integrity=\"sha256-K94A6COV2oj9EbSZw/W17KSK/PWViPUu5ZvoVWy3NeM= sha512-N7EejebryUQS4ltBnj5DGT91wOe73MEeTgwz/dekHmfMU1tiU7jf/gU04cm8Ebx6EYMkfLuWVIK846Ggwc+trQ==\" rel=\"stylesheet\"/><link href=\"/assets/ec2c34cadd4b5f4594415127380a85e6.ico\" rel=\"icon\"><title>Super Ordinary Villains</title> <script async=\"\" nonce=\"MTQ4LDk1LDIxMiwzMSwxMjMsMjE5LDY0LDE3MQ==\" src=\"/cdn-cgi/bm/cv/669835187/api.js\"></script></link></head>\\n<body>\\n<div id=\"app-mount\"></div><script nonce=\"MTQ4LDk1LDIxMiwzMSwxMjMsMjE5LDY0LDE3MQ==\">window.__OVERLAY__ = /overlay/.test(location.pathname)</script><script nonce=\"MTQ4LDk1LDIxMiwzMSwxMjMsMjE5LDY0LDE3MQ==\">window.__BILLING_STANDALONE__ = /^\\\\/billing/.test(location.pathname)</script><script nonce=\"MTQ4LDk1LDIxMiwzMSwxMjMsMjE5LDY0LDE3MQ==\">window.GLOBAL_ENV = {\\n        API_ENDPOINT: \\'//discord.com/api\\',\\n        API_VERSION: 9,\\n        GATEWAY_ENDPOINT: \\'wss://gateway.discord.gg\\',\\n        WEBAPP_ENDPOINT: \\'//discord.com\\',\\n        CDN_HOST: \\'cdn.discordapp.com\\',\\n        ASSET_ENDPOINT: \\'//discord.com\\',\\n        MEDIA_PROXY_ENDPOINT: \\'//media.discordapp.net\\',\\n        WIDGET_ENDPOINT: \\'//discord.com/widget\\',\\n        INVITE_HOST: \\'discord.gg\\',\\n        GUILD_TEMPLATE_HOST: \\'discord.new\\',\\n        GIFT_CODE_HOST: \\'discord.gift\\',\\n        RELEASE_CHANNEL: \\'stable\\',\\n        MARKETING_ENDPOINT: \\'//discord.com\\',\\n        BRAINTREE_KEY: \\'production_5st77rrc_49pp2rp4phym7387\\',\\n        STRIPE_KEY: \\'pk_live_CUQtlpQUF0vufWpnpUmQvcdi\\',\\n        NETWORKING_ENDPOINT: \\'//router.discordapp.net\\',\\n        RTC_LATENCY_ENDPOINT: \\'//latency.discord.media/rtc\\',\\n        ACTIVITY_APPLICATION_HOST: \\'discordsays.com\\',\\n        PROJECT_ENV: \\'production\\',\\n        REMOTE_AUTH_ENDPOINT: \\'//remote-auth-gateway.discord.gg\\',\\n        SENTRY_TAGS: {\"buildId\":\"b0d52b7b81f2cbedff98bd10fc6581e08585ae4b\",\"buildType\":\"normal\"},\\n        MIGRATION_SOURCE_ORIGIN: \\'https://discordapp.com\\',\\n        MIGRATION_DESTINATION_ORIGIN: \\'https://discord.com\\',\\n        HTML_TIMESTAMP: Date.now(),\\n        ALGOLIA_KEY: \\'aca0d7082e4e63af5ba5917d5e96bed0\\',\\n      };</script><script nonce=\"MTQ4LDk1LDIxMiwzMSwxMjMsMjE5LDY0LDE3MQ==\">!function(){if(null!=window.WebSocket){if(function(n){try{var e=localStorage.getItem(n);return null==e?null:JSON.parse(e)}catch(n){return null}}(\"token\")&&!window.__OVERLAY__){var n=null!=window.DiscordNative||null!=window.require?\"etf\":\"json\",e=window.GLOBAL_ENV.GATEWAY_ENDPOINT+\"/?encoding=\"+n+\"&v=\"+window.GLOBAL_ENV.API_VERSION+\"&compress=zlib-stream\";console.log(\"[FAST CONNECT] connecting to: \"+e);var o=new WebSocket(e);o.binaryType=\"arraybuffer\";var t=Date.now(),i={open:!1,identify:!1,gateway:e,messages:[]};o.onopen=function(){console.log(\"[FAST CONNECT] connected in \"+(Date.now()-t)+\"ms\"),i.open=!0},o.onclose=o.onerror=function(){window._ws=null},o.onmessage=function(n){i.messages.push(n)},window._ws={ws:o,state:i}}}}();</script><script integrity=\"sha256-UMhLVi7VfLI1wYyaycsTbbP2ir/C+o3hAnoM9EYzq8U= sha512-p6NiNpXRkh4DcxltkriHj1nPzatKFT3eISFVaDSurtQQVfUDSSQHuYQjmTYOLWZg+xD98MFxslIin11D2TtWXQ==\" src=\"/assets/04e2b45df1b377344552.js\"></script><script integrity=\"sha256-tM83g8GsevZ0i6zTQmzmGMjiq82u6c5WmlmJz2MnMyU= sha512-ND20Lxx120tpec4XP10SZhun+LUkF3wpXIisGOqAaMinyE7bJL3f0rEDjs1GuXq10HfTmOWMsjjBfIWaNprJkA==\" src=\"/assets/cd2a38ddecefaf7ca5bc.js\"></script><script integrity=\"sha256-uV1VkdfBwjalxyjJ5mDDEXZYe9onqOdVN42BUw0lvP4= sha512-70BBOHeU/lMzwt7W4G9xCGbDv7dUCitf3NU/BQLJNuzLfEu0vQ8JZY66FYWsjmLJn0K615W75QKUWFjlZYeo1A==\" src=\"/assets/9ef9392bf7668d219870.js\"></script><script integrity=\"sha256-IO1vdQ92V8DqVASDvGIv38lCA9A1nzNI/c+hSCkIN3U= sha512-1kSIvE0zRWP0jWW+2DuBVOLMVEeETMms2VpNO6DoJ5Yz8mIesqcHviSI4rMTNN5MagnhwD8EwMngjLs7/iYMHg==\" src=\"/assets/3b96d35b71cf7e6c20f3.js\"></script> <script nonce=\"MTQ4LDk1LDIxMiwzMSwxMjMsMjE5LDY0LDE3MQ==\" type=\"text/javascript\">(function(){window[\\'__CF$cv$params\\']={r:\\'6f2d9c6bc8137136\\',m:\\'e__yECHfa.jiVVf32DvPOcXuc0AX.xRYCQ9Spjb86fg-1648441622-0-Afl2qyQc1ZJsjPdccXZLhw77ukQD8XjG4sptuUGXWePpISTqjf3uMAOFvq6gjo31MroMpEbsxGGmbRTQ82dDnxymq+bxM+37uTGWdKpG3gCdbC+4tO0qyxxJiAcnkN0tuJEo5lbVt6qstT2jMobX6RA=\\',s:[0x048c5cab7e,0xf2cd81d7b4],}})();</script></body>\\n</html>\\n'"
      ]
     },
     "execution_count": 96,
     "metadata": {},
     "output_type": "execute_result"
    }
   ],
   "source": [
    "content"
   ]
  },
  {
   "cell_type": "code",
   "execution_count": 99,
   "metadata": {},
   "outputs": [
    {
     "name": "stdout",
     "output_type": "stream",
     "text": [
      "<!DOCTYPE html>\n",
      "<html>\n",
      " <head>\n",
      "  <meta charset=\"utf-8\"/>\n",
      "  <meta content=\"width=device-width, initial-scale=1.0, maximum-scale=1, user-scalable=no\" name=\"viewport\"/>\n",
      "  <meta content=\"Check out the Super Ordinary Villains community on Discord - hang out with 19,827 other members and enjoy free voice and text chat.\" name=\"description\"/>\n",
      "  <meta content=\"summary_large_image\" name=\"twitter:card\"/>\n",
      "  <meta content=\"@discord\" name=\"twitter:site\"/>\n",
      "  <meta content=\"Join the Super Ordinary Villains Discord Server!\" name=\"twitter:title\"/>\n",
      "  <meta content=\"Check out the Super Ordinary Villains community on Discord - hang out with 19,827 other members and enjoy free voice and text chat.\" name=\"twitter:description\"/>\n",
      "  <meta content=\"Join the Super Ordinary Villains Discord Server!\" property=\"og:title\"/>\n",
      "  <meta content=\"https://discord.com/invite/sovillains\" property=\"og:url\"/>\n",
      "  <meta content=\"Check out the Super Ordinary Villains community on Discord - hang out with 19,827 other members and enjoy free voice and text chat.\" property=\"og:description\"/>\n",
      "  <meta content=\"Discord\" property=\"og:site_name\"/>\n",
      "  <meta content=\"https://cdn.discordapp.com/icons/939740982499475488/e0d2d4d73bcba9d8680022d6490aa7d1.jpg?size=256\" property=\"og:image\"/>\n",
      "  <meta content=\"image/jpeg\" property=\"og:image:type\"/>\n",
      "  <meta content=\"512\" property=\"og:image:width\"/>\n",
      "  <meta content=\"512\" property=\"og:image:height\"/>\n",
      "  <meta content=\"https://cdn.discordapp.com/icons/939740982499475488/e0d2d4d73bcba9d8680022d6490aa7d1.jpg?size=256\" name=\"twitter:image\"/>\n",
      "  <meta content=\"noindex, nofollow\" name=\"googlebot\"/>\n",
      "  <meta content=\"noindex, nofollow\" name=\"bingbot\"/>\n",
      "  <meta content=\"noindex, nofollow\" name=\"slurp\"/>\n",
      "  <meta content=\"noindex, nofollow\" name=\"duckduckbot\"/>\n",
      "  <meta content=\"noindex, nofollow\" name=\"baiduspider\"/>\n",
      "  <meta content=\"noindex, nofollow\" name=\"yandexbot\"/>\n",
      "  <meta content=\"noindex, nofollow\" name=\"naver\"/>\n",
      "  <meta content=\"index, follow\" name=\"facebookexternalhit\"/>\n",
      "  <meta content=\"index, follow\" name=\"twitterbot\"/>\n",
      "  <link href=\"https://discord.com/invite/sovillains\" rel=\"canonical\"/>\n",
      "  <link href=\"/assets/40532.d41a92f3d1cf8297b145.css\" integrity=\"sha256-K94A6COV2oj9EbSZw/W17KSK/PWViPUu5ZvoVWy3NeM= sha512-N7EejebryUQS4ltBnj5DGT91wOe73MEeTgwz/dekHmfMU1tiU7jf/gU04cm8Ebx6EYMkfLuWVIK846Ggwc+trQ==\" rel=\"stylesheet\"/>\n",
      "  <link href=\"/assets/ec2c34cadd4b5f4594415127380a85e6.ico\" rel=\"icon\">\n",
      "   <title>\n",
      "    Super Ordinary Villains\n",
      "   </title>\n",
      "   <script async=\"\" nonce=\"MTQ4LDk1LDIxMiwzMSwxMjMsMjE5LDY0LDE3MQ==\" src=\"/cdn-cgi/bm/cv/669835187/api.js\">\n",
      "   </script>\n",
      "  </link>\n",
      " </head>\n",
      " <body>\n",
      "  <div id=\"app-mount\">\n",
      "  </div>\n",
      "  <script nonce=\"MTQ4LDk1LDIxMiwzMSwxMjMsMjE5LDY0LDE3MQ==\">\n",
      "   window.__OVERLAY__ = /overlay/.test(location.pathname)\n",
      "  </script>\n",
      "  <script nonce=\"MTQ4LDk1LDIxMiwzMSwxMjMsMjE5LDY0LDE3MQ==\">\n",
      "   window.__BILLING_STANDALONE__ = /^\\/billing/.test(location.pathname)\n",
      "  </script>\n",
      "  <script nonce=\"MTQ4LDk1LDIxMiwzMSwxMjMsMjE5LDY0LDE3MQ==\">\n",
      "   window.GLOBAL_ENV = {\n",
      "        API_ENDPOINT: '//discord.com/api',\n",
      "        API_VERSION: 9,\n",
      "        GATEWAY_ENDPOINT: 'wss://gateway.discord.gg',\n",
      "        WEBAPP_ENDPOINT: '//discord.com',\n",
      "        CDN_HOST: 'cdn.discordapp.com',\n",
      "        ASSET_ENDPOINT: '//discord.com',\n",
      "        MEDIA_PROXY_ENDPOINT: '//media.discordapp.net',\n",
      "        WIDGET_ENDPOINT: '//discord.com/widget',\n",
      "        INVITE_HOST: 'discord.gg',\n",
      "        GUILD_TEMPLATE_HOST: 'discord.new',\n",
      "        GIFT_CODE_HOST: 'discord.gift',\n",
      "        RELEASE_CHANNEL: 'stable',\n",
      "        MARKETING_ENDPOINT: '//discord.com',\n",
      "        BRAINTREE_KEY: 'production_5st77rrc_49pp2rp4phym7387',\n",
      "        STRIPE_KEY: 'pk_live_CUQtlpQUF0vufWpnpUmQvcdi',\n",
      "        NETWORKING_ENDPOINT: '//router.discordapp.net',\n",
      "        RTC_LATENCY_ENDPOINT: '//latency.discord.media/rtc',\n",
      "        ACTIVITY_APPLICATION_HOST: 'discordsays.com',\n",
      "        PROJECT_ENV: 'production',\n",
      "        REMOTE_AUTH_ENDPOINT: '//remote-auth-gateway.discord.gg',\n",
      "        SENTRY_TAGS: {\"buildId\":\"b0d52b7b81f2cbedff98bd10fc6581e08585ae4b\",\"buildType\":\"normal\"},\n",
      "        MIGRATION_SOURCE_ORIGIN: 'https://discordapp.com',\n",
      "        MIGRATION_DESTINATION_ORIGIN: 'https://discord.com',\n",
      "        HTML_TIMESTAMP: Date.now(),\n",
      "        ALGOLIA_KEY: 'aca0d7082e4e63af5ba5917d5e96bed0',\n",
      "      };\n",
      "  </script>\n",
      "  <script nonce=\"MTQ4LDk1LDIxMiwzMSwxMjMsMjE5LDY0LDE3MQ==\">\n",
      "   !function(){if(null!=window.WebSocket){if(function(n){try{var e=localStorage.getItem(n);return null==e?null:JSON.parse(e)}catch(n){return null}}(\"token\")&&!window.__OVERLAY__){var n=null!=window.DiscordNative||null!=window.require?\"etf\":\"json\",e=window.GLOBAL_ENV.GATEWAY_ENDPOINT+\"/?encoding=\"+n+\"&v=\"+window.GLOBAL_ENV.API_VERSION+\"&compress=zlib-stream\";console.log(\"[FAST CONNECT] connecting to: \"+e);var o=new WebSocket(e);o.binaryType=\"arraybuffer\";var t=Date.now(),i={open:!1,identify:!1,gateway:e,messages:[]};o.onopen=function(){console.log(\"[FAST CONNECT] connected in \"+(Date.now()-t)+\"ms\"),i.open=!0},o.onclose=o.onerror=function(){window._ws=null},o.onmessage=function(n){i.messages.push(n)},window._ws={ws:o,state:i}}}}();\n",
      "  </script>\n",
      "  <script integrity=\"sha256-UMhLVi7VfLI1wYyaycsTbbP2ir/C+o3hAnoM9EYzq8U= sha512-p6NiNpXRkh4DcxltkriHj1nPzatKFT3eISFVaDSurtQQVfUDSSQHuYQjmTYOLWZg+xD98MFxslIin11D2TtWXQ==\" src=\"/assets/04e2b45df1b377344552.js\">\n",
      "  </script>\n",
      "  <script integrity=\"sha256-tM83g8GsevZ0i6zTQmzmGMjiq82u6c5WmlmJz2MnMyU= sha512-ND20Lxx120tpec4XP10SZhun+LUkF3wpXIisGOqAaMinyE7bJL3f0rEDjs1GuXq10HfTmOWMsjjBfIWaNprJkA==\" src=\"/assets/cd2a38ddecefaf7ca5bc.js\">\n",
      "  </script>\n",
      "  <script integrity=\"sha256-uV1VkdfBwjalxyjJ5mDDEXZYe9onqOdVN42BUw0lvP4= sha512-70BBOHeU/lMzwt7W4G9xCGbDv7dUCitf3NU/BQLJNuzLfEu0vQ8JZY66FYWsjmLJn0K615W75QKUWFjlZYeo1A==\" src=\"/assets/9ef9392bf7668d219870.js\">\n",
      "  </script>\n",
      "  <script integrity=\"sha256-IO1vdQ92V8DqVASDvGIv38lCA9A1nzNI/c+hSCkIN3U= sha512-1kSIvE0zRWP0jWW+2DuBVOLMVEeETMms2VpNO6DoJ5Yz8mIesqcHviSI4rMTNN5MagnhwD8EwMngjLs7/iYMHg==\" src=\"/assets/3b96d35b71cf7e6c20f3.js\">\n",
      "  </script>\n",
      "  <script nonce=\"MTQ4LDk1LDIxMiwzMSwxMjMsMjE5LDY0LDE3MQ==\" type=\"text/javascript\">\n",
      "   (function(){window['__CF$cv$params']={r:'6f2d9c6bc8137136',m:'e__yECHfa.jiVVf32DvPOcXuc0AX.xRYCQ9Spjb86fg-1648441622-0-Afl2qyQc1ZJsjPdccXZLhw77ukQD8XjG4sptuUGXWePpISTqjf3uMAOFvq6gjo31MroMpEbsxGGmbRTQ82dDnxymq+bxM+37uTGWdKpG3gCdbC+4tO0qyxxJiAcnkN0tuJEo5lbVt6qstT2jMobX6RA=',s:[0x048c5cab7e,0xf2cd81d7b4],}})();\n",
      "  </script>\n",
      " </body>\n",
      "</html>\n",
      "\n"
     ]
    }
   ],
   "source": [
    "print(soup.prettify())\n"
   ]
  },
  {
   "cell_type": "code",
   "execution_count": 107,
   "metadata": {},
   "outputs": [
    {
     "data": {
      "text/plain": [
       "'19,827'"
      ]
     },
     "execution_count": 107,
     "metadata": {},
     "output_type": "execute_result"
    }
   ],
   "source": [
    "phrase = re.findall(r\"[0-9A-Za-z, ]+ member\", content)[0]\n",
    "re.findall(r\"[0-9,]+\", phrase)[0]"
   ]
  },
  {
   "cell_type": "code",
   "execution_count": 93,
   "metadata": {},
   "outputs": [
    {
     "data": {
      "text/plain": [
       "[]"
      ]
     },
     "execution_count": 93,
     "metadata": {},
     "output_type": "execute_result"
    }
   ],
   "source": [
    "re.findall(r\"[0-9,]+ member\", content)"
   ]
  },
  {
   "cell_type": "code",
   "execution_count": 112,
   "metadata": {},
   "outputs": [
    {
     "data": {
      "text/plain": [
       "'<!DOCTYPE html>\\n<html>\\n <head>\\n  <meta charset=\"utf-8\"/>\\n  <meta content=\"width=device-width, initial-scale=1.0, maximum-scale=1, user-scalable=no\" name=\"viewport\"/>\\n  <meta content=\"Cereal Club - a collectible non-fungibowl driven community of members who will empower web3 across the NFT ecosystem. | 29,071 members\" name=\"description\"/>\\n  <meta content=\"summary_large_image\" name=\"twitter:card\"/>\\n  <meta content=\"@discord\" name=\"twitter:site\"/>\\n  <meta content=\"Join the Cereal Club Discord Server!\" name=\"twitter:title\"/>\\n  <meta content=\"Cereal Club - a collectible non-fungibowl driven community of members who will empower web3 across the NFT ecosystem. | 29,071 members\" name=\"twitter:description\"/>\\n  <meta content=\"Join the Cereal Club Discord Server!\" property=\"og:title\"/>\\n  <meta content=\"https://discord.com/invite/cerealclub\" property=\"og:url\"/>\\n  <meta content=\"Cereal Club - a collectible non-fungibowl driven community of members who will empower web3 across the NFT ecosystem. | 29,071 members\" property=\"og:description\"/>\\n  <meta content=\"Discord\" property=\"og:site_name\"/>\\n  <meta content=\"https://cdn.discordapp.com/splashes/923370161514381352/969199eafab2e180324fe0d21dc6cb30.jpg?size=512\" property=\"og:image\"/>\\n  <meta content=\"image/jpeg\" property=\"og:image:type\"/>\\n  <meta content=\"512\" property=\"og:image:width\"/>\\n  <meta content=\"512\" property=\"og:image:height\"/>\\n  <meta content=\"https://cdn.discordapp.com/splashes/923370161514381352/969199eafab2e180324fe0d21dc6cb30.jpg?size=512\" name=\"twitter:image\"/>\\n  <meta content=\"noindex, nofollow\" name=\"googlebot\"/>\\n  <meta content=\"noindex, nofollow\" name=\"bingbot\"/>\\n  <meta content=\"noindex, nofollow\" name=\"slurp\"/>\\n  <meta content=\"noindex, nofollow\" name=\"duckduckbot\"/>\\n  <meta content=\"noindex, nofollow\" name=\"baiduspider\"/>\\n  <meta content=\"noindex, nofollow\" name=\"yandexbot\"/>\\n  <meta content=\"noindex, nofollow\" name=\"naver\"/>\\n  <meta content=\"index, follow\" name=\"facebookexternalhit\"/>\\n  <meta content=\"index, follow\" name=\"twitterbot\"/>\\n  <link href=\"https://discord.com/invite/cerealclub\" rel=\"canonical\"/>\\n  <link href=\"/assets/40532.d41a92f3d1cf8297b145.css\" integrity=\"sha256-K94A6COV2oj9EbSZw/W17KSK/PWViPUu5ZvoVWy3NeM= sha512-N7EejebryUQS4ltBnj5DGT91wOe73MEeTgwz/dekHmfMU1tiU7jf/gU04cm8Ebx6EYMkfLuWVIK846Ggwc+trQ==\" rel=\"stylesheet\"/>\\n  <link href=\"/assets/ec2c34cadd4b5f4594415127380a85e6.ico\" rel=\"icon\">\\n   <title>\\n    Cereal Club\\n   </title>\\n   <script async=\"\" nonce=\"OCwyNywyNDEsNDcsMTEyLDE0OCwxMzQsNzg=\" src=\"/cdn-cgi/bm/cv/669835187/api.js\">\\n   </script>\\n  </link>\\n </head>\\n <body>\\n  <div id=\"app-mount\">\\n  </div>\\n  <script nonce=\"OCwyNywyNDEsNDcsMTEyLDE0OCwxMzQsNzg=\">\\n   window.__OVERLAY__ = /overlay/.test(location.pathname)\\n  </script>\\n  <script nonce=\"OCwyNywyNDEsNDcsMTEyLDE0OCwxMzQsNzg=\">\\n   window.__BILLING_STANDALONE__ = /^\\\\/billing/.test(location.pathname)\\n  </script>\\n  <script nonce=\"OCwyNywyNDEsNDcsMTEyLDE0OCwxMzQsNzg=\">\\n   window.GLOBAL_ENV = {\\n        API_ENDPOINT: \\'//discord.com/api\\',\\n        API_VERSION: 9,\\n        GATEWAY_ENDPOINT: \\'wss://gateway.discord.gg\\',\\n        WEBAPP_ENDPOINT: \\'//discord.com\\',\\n        CDN_HOST: \\'cdn.discordapp.com\\',\\n        ASSET_ENDPOINT: \\'//discord.com\\',\\n        MEDIA_PROXY_ENDPOINT: \\'//media.discordapp.net\\',\\n        WIDGET_ENDPOINT: \\'//discord.com/widget\\',\\n        INVITE_HOST: \\'discord.gg\\',\\n        GUILD_TEMPLATE_HOST: \\'discord.new\\',\\n        GIFT_CODE_HOST: \\'discord.gift\\',\\n        RELEASE_CHANNEL: \\'stable\\',\\n        MARKETING_ENDPOINT: \\'//discord.com\\',\\n        BRAINTREE_KEY: \\'production_5st77rrc_49pp2rp4phym7387\\',\\n        STRIPE_KEY: \\'pk_live_CUQtlpQUF0vufWpnpUmQvcdi\\',\\n        NETWORKING_ENDPOINT: \\'//router.discordapp.net\\',\\n        RTC_LATENCY_ENDPOINT: \\'//latency.discord.media/rtc\\',\\n        ACTIVITY_APPLICATION_HOST: \\'discordsays.com\\',\\n        PROJECT_ENV: \\'production\\',\\n        REMOTE_AUTH_ENDPOINT: \\'//remote-auth-gateway.discord.gg\\',\\n        SENTRY_TAGS: {\"buildId\":\"b0d52b7b81f2cbedff98bd10fc6581e08585ae4b\",\"buildType\":\"normal\"},\\n        MIGRATION_SOURCE_ORIGIN: \\'https://discordapp.com\\',\\n        MIGRATION_DESTINATION_ORIGIN: \\'https://discord.com\\',\\n        HTML_TIMESTAMP: Date.now(),\\n        ALGOLIA_KEY: \\'aca0d7082e4e63af5ba5917d5e96bed0\\',\\n      };\\n  </script>\\n  <script nonce=\"OCwyNywyNDEsNDcsMTEyLDE0OCwxMzQsNzg=\">\\n   !function(){if(null!=window.WebSocket){if(function(n){try{var e=localStorage.getItem(n);return null==e?null:JSON.parse(e)}catch(n){return null}}(\"token\")&&!window.__OVERLAY__){var n=null!=window.DiscordNative||null!=window.require?\"etf\":\"json\",e=window.GLOBAL_ENV.GATEWAY_ENDPOINT+\"/?encoding=\"+n+\"&v=\"+window.GLOBAL_ENV.API_VERSION+\"&compress=zlib-stream\";console.log(\"[FAST CONNECT] connecting to: \"+e);var o=new WebSocket(e);o.binaryType=\"arraybuffer\";var t=Date.now(),i={open:!1,identify:!1,gateway:e,messages:[]};o.onopen=function(){console.log(\"[FAST CONNECT] connected in \"+(Date.now()-t)+\"ms\"),i.open=!0},o.onclose=o.onerror=function(){window._ws=null},o.onmessage=function(n){i.messages.push(n)},window._ws={ws:o,state:i}}}}();\\n  </script>\\n  <script integrity=\"sha256-UMhLVi7VfLI1wYyaycsTbbP2ir/C+o3hAnoM9EYzq8U= sha512-p6NiNpXRkh4DcxltkriHj1nPzatKFT3eISFVaDSurtQQVfUDSSQHuYQjmTYOLWZg+xD98MFxslIin11D2TtWXQ==\" src=\"/assets/04e2b45df1b377344552.js\">\\n  </script>\\n  <script integrity=\"sha256-tM83g8GsevZ0i6zTQmzmGMjiq82u6c5WmlmJz2MnMyU= sha512-ND20Lxx120tpec4XP10SZhun+LUkF3wpXIisGOqAaMinyE7bJL3f0rEDjs1GuXq10HfTmOWMsjjBfIWaNprJkA==\" src=\"/assets/cd2a38ddecefaf7ca5bc.js\">\\n  </script>\\n  <script integrity=\"sha256-uV1VkdfBwjalxyjJ5mDDEXZYe9onqOdVN42BUw0lvP4= sha512-70BBOHeU/lMzwt7W4G9xCGbDv7dUCitf3NU/BQLJNuzLfEu0vQ8JZY66FYWsjmLJn0K615W75QKUWFjlZYeo1A==\" src=\"/assets/9ef9392bf7668d219870.js\">\\n  </script>\\n  <script integrity=\"sha256-IO1vdQ92V8DqVASDvGIv38lCA9A1nzNI/c+hSCkIN3U= sha512-1kSIvE0zRWP0jWW+2DuBVOLMVEeETMms2VpNO6DoJ5Yz8mIesqcHviSI4rMTNN5MagnhwD8EwMngjLs7/iYMHg==\" src=\"/assets/3b96d35b71cf7e6c20f3.js\">\\n  </script>\\n  <script nonce=\"OCwyNywyNDEsNDcsMTEyLDE0OCwxMzQsNzg=\" type=\"text/javascript\">\\n   (function(){window[\\'__CF$cv$params\\']={r:\\'6f2db9af38e74bc5\\',m:\\'.r00pox0_.8wLAXGC20615os86ra_IKLaYTgFfdffx8-1648442821-0-AfipVllR+xexyMphAGwSyl1iDZslIvNZMgbtqxkTg6fUmpRTuYm2yJgVoiA73Rzy80no86faxudp0GcvKRoR6Z5ve3WFD4V4DVxzK+ljzZFvD6tvrr3j9ob6Aio4+SfRmiyteSoDOrYYwW32RX+8q+c=\\',s:[0x38792ff0bd,0x443465ba33],}})();\\n  </script>\\n </body>\\n</html>\\n'"
      ]
     },
     "execution_count": 112,
     "metadata": {},
     "output_type": "execute_result"
    }
   ],
   "source": [
    "soup.prettify()"
   ]
  },
  {
   "cell_type": "code",
   "execution_count": 118,
   "metadata": {},
   "outputs": [
    {
     "data": {
      "text/plain": [
       "['fungibowl driven community of members ',\n",
       " ' 29,071 members\"',\n",
       " 'fungibowl driven community of members ',\n",
       " ' 29,071 members\"',\n",
       " 'fungibowl driven community of members ',\n",
       " ' 29,071 members\"']"
      ]
     },
     "execution_count": 118,
     "metadata": {},
     "output_type": "execute_result"
    }
   ],
   "source": [
    "phrase = re.findall(r\"[0-9A-Za-z, ]+ member[s].\", content)\n",
    "phrase"
   ]
  },
  {
   "cell_type": "code",
   "execution_count": 119,
   "metadata": {},
   "outputs": [
    {
     "name": "stdout",
     "output_type": "stream",
     "text": [
      "29071\n"
     ]
    }
   ],
   "source": [
    "soup = quickSoup(\"http://discord.gg/cerealclub\")\n",
    "content = ''.join([str(i) for i in soup.contents])\n",
    "phrase = '_'.join(re.findall(r\"[0-9A-Za-z, ]+ member[s].\", content))\n",
    "n_members = re.findall(r\"[0-9,]+\", phrase)[0].replace(\",\",\"\").replace(\" member\", \"\")\n",
    "print(n_members)"
   ]
  }
 ],
 "metadata": {
  "interpreter": {
   "hash": "48441edff1f1bae7160f58d2c03e3e0b407948a6abe760649e1015bdd72356ab"
  },
  "kernelspec": {
   "display_name": "Python 3.9.5 64-bit",
   "language": "python",
   "name": "python3"
  },
  "language_info": {
   "codemirror_mode": {
    "name": "ipython",
    "version": 3
   },
   "file_extension": ".py",
   "mimetype": "text/x-python",
   "name": "python",
   "nbconvert_exporter": "python",
   "pygments_lexer": "ipython3",
   "version": "3.9.5"
  },
  "orig_nbformat": 4
 },
 "nbformat": 4,
 "nbformat_minor": 2
}
